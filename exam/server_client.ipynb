{
 "cells": [
  {
   "cell_type": "code",
   "execution_count": 1,
   "metadata": {},
   "outputs": [],
   "source": [
    "%reload_ext autoreload\n",
    "%autoreload 2\n",
    "\n",
    "import sys\n",
    "\n",
    "sys.path.append(\".\")\n",
    "sys.path.append(\"..\")\n",
    "sys.path.append(\"../..\")"
   ]
  },
  {
   "cell_type": "code",
   "execution_count": 2,
   "metadata": {},
   "outputs": [
    {
     "name": "stdout",
     "output_type": "stream",
     "text": [
      "{'extract': [], 'transform': [], 'rater': [], 'expand_reduce': []} register?\n",
      "registered extract -----------------\n",
      "registered extract -----------------\n",
      "registered extract -----------------\n",
      "registered extract -----------------\n",
      "registered extract -----------------\n",
      "registered rater -----------------\n",
      "registered transform -----------------\n",
      "registered transform -----------------\n",
      "registered transform -----------------\n",
      "registered transform -----------------\n",
      "registered transform -----------------\n",
      "registered expand_reduce -----------------\n"
     ]
    },
    {
     "name": "stderr",
     "output_type": "stream",
     "text": [
      "d:\\anaconda\\envs\\cambio\\lib\\site-packages\\tqdm\\auto.py:21: TqdmWarning: IProgress not found. Please update jupyter and ipywidgets. See https://ipywidgets.readthedocs.io/en/stable/user_install.html\n",
      "  from .autonotebook import tqdm as notebook_tqdm\n"
     ]
    }
   ],
   "source": [
    "from uniflow.viz import Viz\n",
    "\n",
    "from uniflow.flow.client import ExpandReduceClient\n",
    "from uniflow.flow.config import ExpandReduceConfig\n",
    "from uniflow.flow.flow_factory import FlowFactory\n",
    "from uniflow.flow.expand_reduce_flow import ExpandReduceFlow\n",
    "from uniflow.constants import EXPAND_REDUCE\n"
   ]
  },
  {
   "cell_type": "code",
   "execution_count": 3,
   "metadata": {},
   "outputs": [
    {
     "data": {
      "text/plain": [
       "{'extract': ['ExtractImageFlow',\n",
       "  'ExtractIpynbFlow',\n",
       "  'ExtractMarkdownFlow',\n",
       "  'ExtractPDFFlow',\n",
       "  'ExtractTxtFlow'],\n",
       " 'transform': ['TransformAzureOpenAIFlow',\n",
       "  'TransformCopyFlow',\n",
       "  'TransformHuggingFaceFlow',\n",
       "  'TransformLMQGFlow',\n",
       "  'TransformOpenAIFlow'],\n",
       " 'rater': ['RaterFlow'],\n",
       " 'expand_reduce': ['ExpandReduceFlow']}"
      ]
     },
     "execution_count": 3,
     "metadata": {},
     "output_type": "execute_result"
    }
   ],
   "source": [
    "FlowFactory.list()\n"
   ]
  },
  {
   "cell_type": "code",
   "execution_count": 4,
   "metadata": {},
   "outputs": [
    {
     "name": "stderr",
     "output_type": "stream",
     "text": [
      "100%|██████████| 2/2 [00:00<?, ?it/s]\n"
     ]
    }
   ],
   "source": [
    "# client = Client(\"expand_reduce_flow\") \n",
    "# config = ExpandReduceConfig(\"ExpandReduceFlow\")\n",
    "config = ExpandReduceConfig(\"ExpandReduceFlow\")\n",
    "client = ExpandReduceClient(config)\n",
    "input = [{\"How are you?\": \"Fine.\", \"Who are you?\": \"I am Bob.\"}, {\"Where are you?\": \"I am at home.\", \"What are you doing?\": \"Coding.\"}]\n",
    "output = client.run(input)"
   ]
  },
  {
   "cell_type": "code",
   "execution_count": 5,
   "metadata": {},
   "outputs": [
    {
     "name": "stdout",
     "output_type": "stream",
     "text": [
      "dict_keys(['error', 'traceback'])\n",
      "2\n"
     ]
    }
   ],
   "source": [
    "print(output[0].keys())\n",
    "print(len(output))\n",
    "output"
   ]
  },
  {
   "cell_type": "code",
   "execution_count": 6,
   "metadata": {},
   "outputs": [
    {
     "ename": "KeyError",
     "evalue": "'root'",
     "output_type": "error",
     "traceback": [
      "\u001b[1;31m---------------------------------------------------------------------------\u001b[0m",
      "\u001b[1;31mKeyError\u001b[0m                                  Traceback (most recent call last)",
      "Cell \u001b[1;32mIn[6], line 1\u001b[0m\n\u001b[1;32m----> 1\u001b[0m graph \u001b[39m=\u001b[39m Viz\u001b[39m.\u001b[39mto_digraph(output[\u001b[39m1\u001b[39;49m][\u001b[39m\"\u001b[39;49m\u001b[39mroot\u001b[39;49m\u001b[39m\"\u001b[39;49m])\n",
      "\u001b[1;31mKeyError\u001b[0m: 'root'"
     ]
    }
   ],
   "source": [
    "graph = Viz.to_digraph(output[1][\"root\"])\n"
   ]
  },
  {
   "cell_type": "code",
   "execution_count": null,
   "metadata": {},
   "outputs": [],
   "source": [
    "display(graph)"
   ]
  }
 ],
 "metadata": {
  "kernelspec": {
   "display_name": "uniflow",
   "language": "python",
   "name": "python3"
  },
  "language_info": {
   "codemirror_mode": {
    "name": "ipython",
    "version": 3
   },
   "file_extension": ".py",
   "mimetype": "text/x-python",
   "name": "python",
   "nbconvert_exporter": "python",
   "pygments_lexer": "ipython3",
   "version": "3.8.2"
  }
 },
 "nbformat": 4,
 "nbformat_minor": 2
}
